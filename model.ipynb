{
 "cells": [
  {
   "cell_type": "code",
   "execution_count": null,
   "id": "b9b610f3-9252-48df-9c60-93ce07797f95",
   "metadata": {},
   "outputs": [],
   "source": [
    "import numpy as np\n",
    "from tensorflow import keras\n",
    "import tensorflow\n",
    "from recorder import Recorder\n",
    "import matplotlib.pyplot as plt\n",
    "import scipy\n",
    "# import librosa\n",
    "# from librosa import display\n",
    "# from IPython.display import Audio\n",
    "from scipy.fft import fft, fftfreq\n",
    "import numpy as np\n",
    "import cv2\n",
    "\n",
    "def predict_class(image):\n",
    "    model = tensorflow.keras.models.load_model('keras_model.h5')\n",
    "    image = cv2.resize(image,(224,224))\n",
    "    data = np.expand_dims(image, axis=0)\n",
    "    prediction = model.predict(data)\n",
    "    return prediction[0][0]\n",
    "\n",
    "def main():\n",
    "    cap = cv2.VideoCapture('ambulance.mp4')\n",
    "    threshold = 0.9\n",
    "    count = 0\n",
    "    while True:\n",
    "        success, img = cap.read()\n",
    "        image = img\n",
    "        image = cv2.resize(img,(224,224))\n",
    "        \n",
    "        probability = predict_class(image)\n",
    "        if probability > threshold:\n",
    "            count = count + 1\n",
    "            print(f\"Ambulance detected: {count}\")\n",
    "        if count == 20:\n",
    "            count = 0\n",
    "            cv2.imwrite('ambulance.jpg', image)\n",
    "       \n",
    "        cv2.imshow('Image', image)\n",
    "        cv2.waitKey(1)\n",
    "\n",
    "if __name__ == '__main__':\n",
    "    main()\n"
   ]
  }
 ],
 "metadata": {
  "kernelspec": {
   "display_name": "Python 3 (ipykernel)",
   "language": "python",
   "name": "python3"
  },
  "language_info": {
   "codemirror_mode": {
    "name": "ipython",
    "version": 3
   },
   "file_extension": ".py",
   "mimetype": "text/x-python",
   "name": "python",
   "nbconvert_exporter": "python",
   "pygments_lexer": "ipython3",
   "version": "3.11.4"
  }
 },
 "nbformat": 4,
 "nbformat_minor": 5
}
